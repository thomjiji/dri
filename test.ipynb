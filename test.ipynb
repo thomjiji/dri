{
 "cells": [
  {
   "cell_type": "code",
   "execution_count": 1,
   "metadata": {
    "collapsed": true,
    "ExecuteTime": {
     "end_time": "2023-06-08T07:19:47.298748Z",
     "start_time": "2023-06-08T07:19:47.267494Z"
    }
   },
   "outputs": [],
   "source": [
    "from resolve_init import GetResolve\n",
    "from dri import Folder, MediaPool\n",
    "\n",
    "resolve = GetResolve()\n",
    "project_manager = resolve.GetProjectManager()\n",
    "project = project_manager.GetCurrentProject()\n",
    "media_storage = resolve.GetMediaStorage()\n",
    "media_pool: MediaPool = project.GetMediaPool()\n",
    "root_folder: Folder = media_pool.GetRootFolder()\n",
    "current_timeline = project.GetCurrentTimeline()\n",
    "\n",
    "b = root_folder.GetClipList()[0]\n",
    "c = root_folder.GetClipList()[1]\n",
    "d = [clip for clip in root_folder.GetClipList() if clip.GetName() != \"Timeline 1\"]\n",
    "e = [clip for clip in root_folder.GetClipList() if clip.GetName() == \"Timeline 1\"]\n",
    "\n",
    "clip_info_b = {\"mediaPoolItem\": b, \"startFrame\": 0, \"endFrame\": 12, \"mediaType\": 1}\n",
    "clip_info_c = {\"mediaPoolItem\": c, \"startFrame\": 0, \"endFrame\": 12, \"mediaType\": 1}"
   ]
  },
  {
   "cell_type": "code",
   "execution_count": 6,
   "outputs": [
    {
     "name": "stdout",
     "output_type": "stream",
     "text": [
      "True\n"
     ]
    }
   ],
   "source": [
    "from dri.timeline import Timeline\n",
    "from dri import Resolve\n",
    "\n",
    "resolve = Resolve()\n",
    "project_manager = resolve.GetProjectManager()\n",
    "project = project_manager.GetCurrentProject()\n",
    "media_storage = resolve.GetMediaStorage()\n",
    "media_pool = project.GetMediaPool()\n",
    "root_folder = media_pool.GetRootFolder()\n",
    "current_timeline: Timeline = project.GetCurrentTimeline()\n",
    "\n",
    "print(project)"
   ],
   "metadata": {
    "collapsed": false,
    "ExecuteTime": {
     "end_time": "2023-06-08T07:22:17.711012Z",
     "start_time": "2023-06-08T07:22:17.708814Z"
    }
   }
  },
  {
   "cell_type": "code",
   "execution_count": null,
   "outputs": [],
   "source": [],
   "metadata": {
    "collapsed": false
   }
  }
 ],
 "metadata": {
  "kernelspec": {
   "display_name": "Python 3 (ipykernel)",
   "language": "python",
   "name": "python3"
  },
  "language_info": {
   "codemirror_mode": {
    "name": "ipython",
    "version": 3
   },
   "file_extension": ".py",
   "mimetype": "text/x-python",
   "name": "python",
   "nbconvert_exporter": "python",
   "pygments_lexer": "ipython3",
   "version": "3.10.11"
  }
 },
 "nbformat": 4,
 "nbformat_minor": 1
}
