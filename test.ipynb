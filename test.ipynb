{
 "cells": [
  {
   "cell_type": "code",
   "execution_count": 2,
   "metadata": {
    "collapsed": true,
    "ExecuteTime": {
     "end_time": "2023-05-19T07:40:30.230915Z",
     "start_time": "2023-05-19T07:40:30.227397Z"
    }
   },
   "outputs": [
    {
     "data": {
      "text/plain": "[<BlackmagicFusion.PyRemoteObject at 0x108645350>,\n <BlackmagicFusion.PyRemoteObject at 0x108645b90>]"
     },
     "execution_count": 2,
     "metadata": {},
     "output_type": "execute_result"
    }
   ],
   "source": [
    "from resolve_init import GetResolve\n",
    "from resolve_type import Folder\n",
    "\n",
    "resolve = GetResolve()\n",
    "project_manager = resolve.GetProjectManager()\n",
    "project = project_manager.GetCurrentProject()\n",
    "media_storage = resolve.GetMediaStorage()\n",
    "media_pool = project.GetMediaPool()\n",
    "root_folder: Folder = media_pool.GetRootFolder()\n",
    "current_timeline = project.GetCurrentTimeline()\n",
    "\n",
    "root_folder.GetSubFolderList()"
   ]
  },
  {
   "cell_type": "code",
   "execution_count": null,
   "outputs": [],
   "source": [],
   "metadata": {
    "collapsed": false
   }
  }
 ],
 "metadata": {
  "kernelspec": {
   "display_name": "Python 3",
   "language": "python",
   "name": "python3"
  },
  "language_info": {
   "codemirror_mode": {
    "name": "ipython",
    "version": 2
   },
   "file_extension": ".py",
   "mimetype": "text/x-python",
   "name": "python",
   "nbconvert_exporter": "python",
   "pygments_lexer": "ipython2",
   "version": "3.11.1"
  }
 },
 "nbformat": 4,
 "nbformat_minor": 0
}
